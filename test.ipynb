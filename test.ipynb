{
 "cells": [
  {
   "cell_type": "code",
   "execution_count": 11,
   "metadata": {},
   "outputs": [],
   "source": [
    "from backend.QGame import *\n",
    "import pandas as pd\n",
    "import time"
   ]
  },
  {
   "cell_type": "code",
   "execution_count": 14,
   "metadata": {},
   "outputs": [
    {
     "name": "stdout",
     "output_type": "stream",
     "text": [
      "  0  1 2\n",
      "0    X  \n",
      "1       \n",
      "2       \n",
      "\n",
      "  0 1  2\n",
      "0       \n",
      "1       \n",
      "2      O\n",
      "   0  1 2\n",
      "0     X  \n",
      "1        \n",
      "2  O     \n",
      "\n",
      "  0  1  2\n",
      "0        \n",
      "1        \n",
      "2    X  O\n",
      "   0  1 2\n",
      "0     X  \n",
      "1     X  \n",
      "2  O     \n",
      "\n",
      "  0  1  2\n",
      "0    O   \n",
      "1        \n",
      "2    X  O\n",
      "   0  1 2\n",
      "0     X  \n",
      "1     X  \n",
      "2  O     \n",
      "\n",
      "  0  1  2\n",
      "0    O   \n",
      "1        \n",
      "2    X  O\n",
      "   0  1 2\n",
      "0     X  \n",
      "1     X  \n",
      "2  O     \n",
      "\n",
      "  0  1  2\n",
      "0    O   \n",
      "1        \n",
      "2    X  O\n",
      "   0  1 2\n",
      "0     X  \n",
      "1     X  \n",
      "2  O     \n",
      "\n",
      "  0  1  2\n",
      "0    O   \n",
      "1        \n",
      "2    X  O\n",
      "   0  1 2\n",
      "0  X  X  \n",
      "1     X  \n",
      "2  O     \n",
      "\n",
      "   0  1  2\n",
      "0  O  O   \n",
      "1         \n",
      "2     X  O\n"
     ]
    },
    {
     "ename": "TypeError",
     "evalue": "Cannot do inplace boolean setting on mixed-types with a non np.nan value",
     "output_type": "error",
     "traceback": [
      "\u001b[1;31m---------------------------------------------------------------------------\u001b[0m",
      "\u001b[1;31mTypeError\u001b[0m                                 Traceback (most recent call last)",
      "\u001b[1;32md:\\Documents\\Werk\\KIXS\\Quantum Games\\QGame\\test.ipynb Cell 2\u001b[0m in \u001b[0;36m<cell line: 2>\u001b[1;34m()\u001b[0m\n\u001b[0;32m      <a href='vscode-notebook-cell:/d%3A/Documents/Werk/KIXS/Quantum%20Games/QGame/test.ipynb#W2sZmlsZQ%3D%3D?line=8'>9</a>\u001b[0m df1 \u001b[39m=\u001b[39m pd\u001b[39m.\u001b[39mDataFrame(QG\u001b[39m.\u001b[39mgrids[\u001b[39m0\u001b[39m])\n\u001b[0;32m     <a href='vscode-notebook-cell:/d%3A/Documents/Werk/KIXS/Quantum%20Games/QGame/test.ipynb#W2sZmlsZQ%3D%3D?line=9'>10</a>\u001b[0m df1[df1 \u001b[39m==\u001b[39m \u001b[39m0\u001b[39m] \u001b[39m=\u001b[39m \u001b[39m\"\u001b[39m\u001b[39m\"\u001b[39m\n\u001b[1;32m---> <a href='vscode-notebook-cell:/d%3A/Documents/Werk/KIXS/Quantum%20Games/QGame/test.ipynb#W2sZmlsZQ%3D%3D?line=10'>11</a>\u001b[0m df1[df1 \u001b[39m==\u001b[39m \u001b[39m-\u001b[39m\u001b[39m1\u001b[39m] \u001b[39m=\u001b[39m \u001b[39m\"\u001b[39m\u001b[39mO\u001b[39m\u001b[39m\"\u001b[39m\n\u001b[0;32m     <a href='vscode-notebook-cell:/d%3A/Documents/Werk/KIXS/Quantum%20Games/QGame/test.ipynb#W2sZmlsZQ%3D%3D?line=11'>12</a>\u001b[0m df1[df1 \u001b[39m==\u001b[39m \u001b[39m1\u001b[39m] \u001b[39m=\u001b[39m \u001b[39m\"\u001b[39m\u001b[39mX\u001b[39m\u001b[39m\"\u001b[39m\n\u001b[0;32m     <a href='vscode-notebook-cell:/d%3A/Documents/Werk/KIXS/Quantum%20Games/QGame/test.ipynb#W2sZmlsZQ%3D%3D?line=13'>14</a>\u001b[0m df2 \u001b[39m=\u001b[39m pd\u001b[39m.\u001b[39mDataFrame(QG\u001b[39m.\u001b[39mgrids[\u001b[39m1\u001b[39m])\n",
      "File \u001b[1;32mc:\\Users\\toonh\\anaconda3\\lib\\site-packages\\pandas\\core\\frame.py:3936\u001b[0m, in \u001b[0;36mDataFrame.__setitem__\u001b[1;34m(self, key, value)\u001b[0m\n\u001b[0;32m   3933\u001b[0m     \u001b[39mreturn\u001b[39;00m \u001b[39mself\u001b[39m\u001b[39m.\u001b[39m_setitem_slice(slc, value)\n\u001b[0;32m   3935\u001b[0m \u001b[39mif\u001b[39;00m \u001b[39misinstance\u001b[39m(key, DataFrame) \u001b[39mor\u001b[39;00m \u001b[39mgetattr\u001b[39m(key, \u001b[39m\"\u001b[39m\u001b[39mndim\u001b[39m\u001b[39m\"\u001b[39m, \u001b[39mNone\u001b[39;00m) \u001b[39m==\u001b[39m \u001b[39m2\u001b[39m:\n\u001b[1;32m-> 3936\u001b[0m     \u001b[39mself\u001b[39;49m\u001b[39m.\u001b[39;49m_setitem_frame(key, value)\n\u001b[0;32m   3937\u001b[0m \u001b[39melif\u001b[39;00m \u001b[39misinstance\u001b[39m(key, (Series, np\u001b[39m.\u001b[39mndarray, \u001b[39mlist\u001b[39m, Index)):\n\u001b[0;32m   3938\u001b[0m     \u001b[39mself\u001b[39m\u001b[39m.\u001b[39m_setitem_array(key, value)\n",
      "File \u001b[1;32mc:\\Users\\toonh\\anaconda3\\lib\\site-packages\\pandas\\core\\frame.py:4056\u001b[0m, in \u001b[0;36mDataFrame._setitem_frame\u001b[1;34m(self, key, value)\u001b[0m\n\u001b[0;32m   4051\u001b[0m \u001b[39mif\u001b[39;00m key\u001b[39m.\u001b[39msize \u001b[39mand\u001b[39;00m \u001b[39mnot\u001b[39;00m \u001b[39mall\u001b[39m(is_bool_dtype(dtype) \u001b[39mfor\u001b[39;00m dtype \u001b[39min\u001b[39;00m key\u001b[39m.\u001b[39mdtypes):\n\u001b[0;32m   4052\u001b[0m     \u001b[39mraise\u001b[39;00m \u001b[39mTypeError\u001b[39;00m(\n\u001b[0;32m   4053\u001b[0m         \u001b[39m\"\u001b[39m\u001b[39mMust pass DataFrame or 2-d ndarray with boolean values only\u001b[39m\u001b[39m\"\u001b[39m\n\u001b[0;32m   4054\u001b[0m     )\n\u001b[1;32m-> 4056\u001b[0m \u001b[39mself\u001b[39;49m\u001b[39m.\u001b[39;49m_check_inplace_setting(value)\n\u001b[0;32m   4057\u001b[0m \u001b[39mself\u001b[39m\u001b[39m.\u001b[39m_check_setitem_copy()\n\u001b[0;32m   4058\u001b[0m \u001b[39mself\u001b[39m\u001b[39m.\u001b[39m_where(\u001b[39m-\u001b[39mkey, value, inplace\u001b[39m=\u001b[39m\u001b[39mTrue\u001b[39;00m)\n",
      "File \u001b[1;32mc:\\Users\\toonh\\anaconda3\\lib\\site-packages\\pandas\\core\\generic.py:6103\u001b[0m, in \u001b[0;36mNDFrame._check_inplace_setting\u001b[1;34m(self, value)\u001b[0m\n\u001b[0;32m   6100\u001b[0m     \u001b[39mif\u001b[39;00m is_float(value) \u001b[39mand\u001b[39;00m np\u001b[39m.\u001b[39misnan(value) \u001b[39mor\u001b[39;00m value \u001b[39mis\u001b[39;00m lib\u001b[39m.\u001b[39mno_default:\n\u001b[0;32m   6101\u001b[0m         \u001b[39mreturn\u001b[39;00m \u001b[39mTrue\u001b[39;00m\n\u001b[1;32m-> 6103\u001b[0m     \u001b[39mraise\u001b[39;00m \u001b[39mTypeError\u001b[39;00m(\n\u001b[0;32m   6104\u001b[0m         \u001b[39m\"\u001b[39m\u001b[39mCannot do inplace boolean setting on \u001b[39m\u001b[39m\"\u001b[39m\n\u001b[0;32m   6105\u001b[0m         \u001b[39m\"\u001b[39m\u001b[39mmixed-types with a non np.nan value\u001b[39m\u001b[39m\"\u001b[39m\n\u001b[0;32m   6106\u001b[0m     )\n\u001b[0;32m   6108\u001b[0m \u001b[39mreturn\u001b[39;00m \u001b[39mTrue\u001b[39;00m\n",
      "\u001b[1;31mTypeError\u001b[0m: Cannot do inplace boolean setting on mixed-types with a non np.nan value"
     ]
    }
   ],
   "source": [
    "QG = QGame()\n",
    "while not QG.winner:\n",
    "    x1 = int(input(\"x1: \"))\n",
    "    y1 = int(input(\"y1: \"))\n",
    "    x2 = int(input(\"x1: \"))\n",
    "    y2 = int(input(\"y1: \"))\n",
    "    QG.step([[x1,x2], [y1,y2]])\n",
    "\n",
    "    df1 = pd.DataFrame(QG.grids[0])\n",
    "    df1[df1 == 0] = \"\"\n",
    "    df1[df1 == -1] = \"O\"\n",
    "    df1[df1 == 1] = \"X\"\n",
    "    \n",
    "    df2 = pd.DataFrame(QG.grids[1])\n",
    "    df2[df2 == 0] = \"\"\n",
    "    df2[df2 == -1] = \"O\"\n",
    "    df2[df2 == 1] = \"X\"\n",
    "\n",
    "    print(df1)\n",
    "    print(\"\")\n",
    "    print(df2)\n",
    "\n",
    "    time.sleep(1)\n",
    "print(QG.winner)\n",
    "\n",
    "\n",
    " "
   ]
  },
  {
   "cell_type": "code",
   "execution_count": null,
   "metadata": {},
   "outputs": [],
   "source": []
  }
 ],
 "metadata": {
  "kernelspec": {
   "display_name": "base",
   "language": "python",
   "name": "python3"
  },
  "language_info": {
   "codemirror_mode": {
    "name": "ipython",
    "version": 3
   },
   "file_extension": ".py",
   "mimetype": "text/x-python",
   "name": "python",
   "nbconvert_exporter": "python",
   "pygments_lexer": "ipython3",
   "version": "3.9.12"
  },
  "orig_nbformat": 4
 },
 "nbformat": 4,
 "nbformat_minor": 2
}
