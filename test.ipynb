{
 "cells": [
  {
   "cell_type": "code",
   "execution_count": 1,
   "metadata": {},
   "outputs": [],
   "source": [
    "from backend.QGame import *\n",
    "import pandas as pd\n",
    "import time"
   ]
  },
  {
   "cell_type": "code",
   "execution_count": 2,
   "metadata": {},
   "outputs": [
    {
     "name": "stdout",
     "output_type": "stream",
     "text": [
      "  0  1 2\n",
      "0       \n",
      "1    X  \n",
      "2       \n",
      "\n",
      "  0  1 2\n",
      "0       \n",
      "1    O  \n",
      "2       \n",
      "<table border=\"1\" class=\"dataframe\">\n",
      "  <thead>\n",
      "    <tr style=\"text-align: right;\">\n",
      "      <th></th>\n",
      "      <th>0</th>\n",
      "      <th>1</th>\n",
      "      <th>2</th>\n",
      "    </tr>\n",
      "  </thead>\n",
      "  <tbody>\n",
      "    <tr>\n",
      "      <th>0</th>\n",
      "      <td></td>\n",
      "      <td></td>\n",
      "      <td></td>\n",
      "    </tr>\n",
      "    <tr>\n",
      "      <th>1</th>\n",
      "      <td></td>\n",
      "      <td>X</td>\n",
      "      <td></td>\n",
      "    </tr>\n",
      "    <tr>\n",
      "      <th>2</th>\n",
      "      <td></td>\n",
      "      <td></td>\n",
      "      <td></td>\n",
      "    </tr>\n",
      "  </tbody>\n",
      "</table>\n"
     ]
    },
    {
     "ename": "ValueError",
     "evalue": "invalid literal for int() with base 10: ''",
     "output_type": "error",
     "traceback": [
      "\u001b[1;31m---------------------------------------------------------------------------\u001b[0m",
      "\u001b[1;31mValueError\u001b[0m                                Traceback (most recent call last)",
      "\u001b[1;32md:\\Documents\\Werk\\KIXS\\Quantum Games\\QGame\\test.ipynb Cell 2\u001b[0m in \u001b[0;36m<cell line: 2>\u001b[1;34m()\u001b[0m\n\u001b[0;32m      <a href='vscode-notebook-cell:/d%3A/Documents/Werk/KIXS/Quantum%20Games/QGame/test.ipynb#W1sZmlsZQ%3D%3D?line=0'>1</a>\u001b[0m QG \u001b[39m=\u001b[39m QGame()\n\u001b[0;32m      <a href='vscode-notebook-cell:/d%3A/Documents/Werk/KIXS/Quantum%20Games/QGame/test.ipynb#W1sZmlsZQ%3D%3D?line=1'>2</a>\u001b[0m \u001b[39mwhile\u001b[39;00m \u001b[39mnot\u001b[39;00m QG\u001b[39m.\u001b[39mwinner:\n\u001b[1;32m----> <a href='vscode-notebook-cell:/d%3A/Documents/Werk/KIXS/Quantum%20Games/QGame/test.ipynb#W1sZmlsZQ%3D%3D?line=2'>3</a>\u001b[0m     x1 \u001b[39m=\u001b[39m \u001b[39mint\u001b[39;49m(\u001b[39minput\u001b[39;49m(\u001b[39m\"\u001b[39;49m\u001b[39mx1: \u001b[39;49m\u001b[39m\"\u001b[39;49m))\n\u001b[0;32m      <a href='vscode-notebook-cell:/d%3A/Documents/Werk/KIXS/Quantum%20Games/QGame/test.ipynb#W1sZmlsZQ%3D%3D?line=3'>4</a>\u001b[0m     y1 \u001b[39m=\u001b[39m \u001b[39mint\u001b[39m(\u001b[39minput\u001b[39m(\u001b[39m\"\u001b[39m\u001b[39my1: \u001b[39m\u001b[39m\"\u001b[39m))\n\u001b[0;32m      <a href='vscode-notebook-cell:/d%3A/Documents/Werk/KIXS/Quantum%20Games/QGame/test.ipynb#W1sZmlsZQ%3D%3D?line=4'>5</a>\u001b[0m     x2 \u001b[39m=\u001b[39m \u001b[39mint\u001b[39m(\u001b[39minput\u001b[39m(\u001b[39m\"\u001b[39m\u001b[39mx1: \u001b[39m\u001b[39m\"\u001b[39m))\n",
      "\u001b[1;31mValueError\u001b[0m: invalid literal for int() with base 10: ''"
     ]
    }
   ],
   "source": [
    "QG = QGame()\n",
    "while not QG.winner:\n",
    "    x1 = int(input(\"x1: \"))\n",
    "    y1 = int(input(\"y1: \"))\n",
    "    x2 = int(input(\"x1: \"))\n",
    "    y2 = int(input(\"y1: \"))\n",
    "    QG.step([[x1,x2], [y1,y2]])\n",
    "\n",
    "    df1 = pd.DataFrame(QG.grids[0])\n",
    "    df1[df1 == 0] = \"\"\n",
    "    df1[df1 == -1] = \"O\"\n",
    "    df1[df1 == 1] = \"X\"\n",
    "    \n",
    "    df2 = pd.DataFrame(QG.grids[1])\n",
    "    df2[df2 == 0] = \"\"\n",
    "    df2[df2 == -1] = \"O\"\n",
    "    df2[df2 == 1] = \"X\"\n",
    "\n",
    "    print(df1)\n",
    "    print(\"\")\n",
    "    print(df2)\n",
    "    time.sleep(1)\n",
    "print(QG.winner)\n",
    "\n",
    "\n",
    " "
   ]
  },
  {
   "cell_type": "code",
   "execution_count": null,
   "metadata": {},
   "outputs": [],
   "source": []
  }
 ],
 "metadata": {
  "kernelspec": {
   "display_name": "base",
   "language": "python",
   "name": "python3"
  },
  "language_info": {
   "codemirror_mode": {
    "name": "ipython",
    "version": 3
   },
   "file_extension": ".py",
   "mimetype": "text/x-python",
   "name": "python",
   "nbconvert_exporter": "python",
   "pygments_lexer": "ipython3",
   "version": "3.9.12"
  },
  "orig_nbformat": 4
 },
 "nbformat": 4,
 "nbformat_minor": 2
}
