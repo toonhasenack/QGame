{
 "cells": [
  {
   "cell_type": "code",
   "execution_count": 3,
   "metadata": {},
   "outputs": [
    {
     "ename": "ModuleNotFoundError",
     "evalue": "No module named 'spinqit.spinq_backends'",
     "output_type": "error",
     "traceback": [
      "\u001b[1;31m---------------------------------------------------------------------------\u001b[0m",
      "\u001b[1;31mModuleNotFoundError\u001b[0m                       Traceback (most recent call last)",
      "Cell \u001b[1;32mIn[3], line 1\u001b[0m\n\u001b[1;32m----> 1\u001b[0m \u001b[39mfrom\u001b[39;00m \u001b[39mspinqit\u001b[39;00m \u001b[39mimport\u001b[39;00m get_basic_simulator, get_compiler, Circuit, BasicSimulatorConfig\n\u001b[0;32m      2\u001b[0m \u001b[39mfrom\u001b[39;00m \u001b[39mspinqit\u001b[39;00m \u001b[39mimport\u001b[39;00m H, CX, Rx\n\u001b[0;32m      3\u001b[0m \u001b[39mfrom\u001b[39;00m \u001b[39mmath\u001b[39;00m \u001b[39mimport\u001b[39;00m pi\n",
      "File \u001b[1;32md:\\Documents\\Werk\\KIXS\\Quantum Games\\QGame\\SpinQit-main\\spinqit\\__init__.py:16\u001b[0m\n\u001b[0;32m      1\u001b[0m \u001b[39m# Copyright 2021 SpinQ Technology Co., Ltd.\u001b[39;00m\n\u001b[0;32m      2\u001b[0m \u001b[39m#\u001b[39;00m\n\u001b[0;32m      3\u001b[0m \u001b[39m# Licensed under the Apache License, Version 2.0 (the \"License\");\u001b[39;00m\n\u001b[1;32m   (...)\u001b[0m\n\u001b[0;32m     12\u001b[0m \u001b[39m# See the License for the specific language governing permissions and\u001b[39;00m\n\u001b[0;32m     13\u001b[0m \u001b[39m# limitations under the License.\u001b[39;00m\n\u001b[0;32m     15\u001b[0m \u001b[39mfrom\u001b[39;00m \u001b[39m.\u001b[39;00m\u001b[39mmodel\u001b[39;00m \u001b[39mimport\u001b[39;00m \u001b[39m*\u001b[39m\n\u001b[1;32m---> 16\u001b[0m \u001b[39mfrom\u001b[39;00m \u001b[39m.\u001b[39;00m\u001b[39mbackend\u001b[39;00m \u001b[39mimport\u001b[39;00m \u001b[39m*\u001b[39m\n\u001b[0;32m     17\u001b[0m \u001b[39mfrom\u001b[39;00m \u001b[39m.\u001b[39;00m\u001b[39mcompiler\u001b[39;00m \u001b[39mimport\u001b[39;00m get_compiler\n\u001b[0;32m     18\u001b[0m \u001b[39mfrom\u001b[39;00m \u001b[39m.\u001b[39;00m\u001b[39mprimitive\u001b[39;00m \u001b[39mimport\u001b[39;00m \u001b[39m*\u001b[39m\n",
      "File \u001b[1;32md:\\Documents\\Werk\\KIXS\\Quantum Games\\QGame\\SpinQit-main\\spinqit\\backend\\__init__.py:15\u001b[0m\n\u001b[0;32m      1\u001b[0m \u001b[39m# Copyright 2021 SpinQ Technology Co., Ltd.\u001b[39;00m\n\u001b[0;32m      2\u001b[0m \u001b[39m#\u001b[39;00m\n\u001b[0;32m      3\u001b[0m \u001b[39m# Licensed under the Apache License, Version 2.0 (the \"License\");\u001b[39;00m\n\u001b[1;32m   (...)\u001b[0m\n\u001b[0;32m     12\u001b[0m \u001b[39m# See the License for the specific language governing permissions and\u001b[39;00m\n\u001b[0;32m     13\u001b[0m \u001b[39m# limitations under the License.\u001b[39;00m\n\u001b[1;32m---> 15\u001b[0m \u001b[39mfrom\u001b[39;00m \u001b[39m.\u001b[39;00m\u001b[39mbackend\u001b[39;00m \u001b[39mimport\u001b[39;00m \u001b[39m*\u001b[39m\n\u001b[0;32m     16\u001b[0m \u001b[39mfrom\u001b[39;00m \u001b[39m.\u001b[39;00m\u001b[39mbasic_simulator_backend\u001b[39;00m \u001b[39mimport\u001b[39;00m BasicSimulatorConfig\n\u001b[0;32m     17\u001b[0m \u001b[39mfrom\u001b[39;00m \u001b[39m.\u001b[39;00m\u001b[39mnmr_backend\u001b[39;00m \u001b[39mimport\u001b[39;00m NMRConfig\n",
      "File \u001b[1;32md:\\Documents\\Werk\\KIXS\\Quantum Games\\QGame\\SpinQit-main\\spinqit\\backend\\backend.py:15\u001b[0m\n\u001b[0;32m      1\u001b[0m \u001b[39m# Copyright 2022 SpinQ Technology Co., Ltd.\u001b[39;00m\n\u001b[0;32m      2\u001b[0m \u001b[39m#\u001b[39;00m\n\u001b[0;32m      3\u001b[0m \u001b[39m# Licensed under the Apache License, Version 2.0 (the \"License\");\u001b[39;00m\n\u001b[1;32m   (...)\u001b[0m\n\u001b[0;32m     12\u001b[0m \u001b[39m# See the License for the specific language governing permissions and\u001b[39;00m\n\u001b[0;32m     13\u001b[0m \u001b[39m# limitations under the License.\u001b[39;00m\n\u001b[1;32m---> 15\u001b[0m \u001b[39mfrom\u001b[39;00m \u001b[39m.\u001b[39;00m\u001b[39mbasic_simulator_backend\u001b[39;00m \u001b[39mimport\u001b[39;00m BasicSimulatorBackend\n\u001b[0;32m     16\u001b[0m \u001b[39mfrom\u001b[39;00m \u001b[39m.\u001b[39;00m\u001b[39mnmr_backend\u001b[39;00m \u001b[39mimport\u001b[39;00m NMRBackend\n\u001b[0;32m     17\u001b[0m \u001b[39mfrom\u001b[39;00m \u001b[39m.\u001b[39;00m\u001b[39mspinq_cloud_backend\u001b[39;00m \u001b[39mimport\u001b[39;00m SpinQCloudBackend\n",
      "File \u001b[1;32md:\\Documents\\Werk\\KIXS\\Quantum Games\\QGame\\SpinQit-main\\spinqit\\backend\\basic_simulator_backend.py:25\u001b[0m\n\u001b[0;32m     23\u001b[0m \u001b[39mfrom\u001b[39;00m \u001b[39mspinqit\u001b[39;00m\u001b[39m.\u001b[39;00m\u001b[39mmodel\u001b[39;00m \u001b[39mimport\u001b[39;00m Instruction\n\u001b[0;32m     24\u001b[0m \u001b[39mfrom\u001b[39;00m \u001b[39mspinqit\u001b[39;00m\u001b[39m.\u001b[39;00m\u001b[39mmodel\u001b[39;00m \u001b[39mimport\u001b[39;00m I, H, X, Y, Z, Rx, Ry, Rz, T, Td, S, Sd, P, CX, CY, CZ, SWAP, CCX, U\n\u001b[1;32m---> 25\u001b[0m \u001b[39mfrom\u001b[39;00m \u001b[39mspinqit\u001b[39;00m\u001b[39m.\u001b[39;00m\u001b[39mspinq_backends\u001b[39;00m \u001b[39mimport\u001b[39;00m BasicSimulator\n\u001b[0;32m     27\u001b[0m \u001b[39mfrom\u001b[39;00m \u001b[39m.\u001b[39;00m\u001b[39mbasebackend\u001b[39;00m \u001b[39mimport\u001b[39;00m BaseBackend\n\u001b[0;32m     28\u001b[0m \u001b[39mfrom\u001b[39;00m \u001b[39m.\u001b[39;00m\u001b[39m.\u001b[39;00m\u001b[39mprimitive\u001b[39;00m \u001b[39mimport\u001b[39;00m PauliBuilder, calculate_pauli_expectation\n",
      "\u001b[1;31mModuleNotFoundError\u001b[0m: No module named 'spinqit.spinq_backends'"
     ]
    }
   ],
   "source": [
    "from spinqit import get_basic_simulator, get_compiler, Circuit, BasicSimulatorConfig\n",
    "from spinqit import H, CX, Rx\n",
    "from math import pi\n",
    "\n",
    "# Write the program\n",
    "circ = Circuit()\n",
    "q = circ.allocateQubits(2)\n",
    "circ << (Rx, q[0], pi)\n",
    "circ << (H, q[1])\n",
    "circ << (CX, (q[0], q[1]))\n",
    "\n",
    "# Choose the compiler and backend\n",
    "comp = get_compiler(\"native\")\n",
    "engine = get_basic_simulator()\n",
    "\n",
    "# Compile\n",
    "optimization_level = 0\n",
    "exe = comp.compile(circ, optimization_level)\n",
    "\n",
    "# Run\n",
    "config = BasicSimulatorConfig()\n",
    "config.configure_shots(1024)\n",
    "result = engine.execute(exe, config)\n"
   ]
  }
 ],
 "metadata": {
  "kernelspec": {
   "display_name": "base",
   "language": "python",
   "name": "python3"
  },
  "language_info": {
   "codemirror_mode": {
    "name": "ipython",
    "version": 3
   },
   "file_extension": ".py",
   "mimetype": "text/x-python",
   "name": "python",
   "nbconvert_exporter": "python",
   "pygments_lexer": "ipython3",
   "version": "3.10.9"
  },
  "orig_nbformat": 4
 },
 "nbformat": 4,
 "nbformat_minor": 2
}
